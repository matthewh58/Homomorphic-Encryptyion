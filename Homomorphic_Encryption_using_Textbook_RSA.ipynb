{
  "nbformat": 4,
  "nbformat_minor": 0,
  "metadata": {
    "colab": {
      "name": "Homomorphic Encryption using Textbook RSA.ipynb",
      "provenance": [],
      "collapsed_sections": []
    },
    "kernelspec": {
      "name": "python3",
      "display_name": "Python 3"
    },
    "language_info": {
      "name": "python"
    }
  },
  "cells": [
    {
      "cell_type": "code",
      "source": [
        "pip install pycryptodome"
      ],
      "metadata": {
        "colab": {
          "base_uri": "https://localhost:8080/"
        },
        "id": "liSffTGN5HAj",
        "outputId": "dc1aa611-af70-4a1c-cc3d-a85507d4b981"
      },
      "execution_count": 1,
      "outputs": [
        {
          "output_type": "stream",
          "name": "stdout",
          "text": [
            "Collecting pycryptodome\n",
            "  Downloading pycryptodome-3.14.1-cp35-abi3-manylinux2010_x86_64.whl (2.0 MB)\n",
            "\u001b[K     |████████████████████████████████| 2.0 MB 5.9 MB/s \n",
            "\u001b[?25hInstalling collected packages: pycryptodome\n",
            "Successfully installed pycryptodome-3.14.1\n"
          ]
        }
      ]
    },
    {
      "cell_type": "code",
      "source": [
        "from Crypto.Hash import SHA256"
      ],
      "metadata": {
        "id": "CcYFQqXQ_HyL"
      },
      "execution_count": 2,
      "outputs": []
    },
    {
      "cell_type": "code",
      "execution_count": 3,
      "metadata": {
        "id": "0qkW_pdS4iFf"
      },
      "outputs": [],
      "source": [
        "def eea (a, b):\n",
        "    if a == 0: return (b, 0, 1)\n",
        "    else:\n",
        "        (gcd, x1, y1) = eea(b%a, a)\n",
        "        x = y1 - (b//a)*x1\n",
        "        y = x1\n",
        "        return (gcd, x, y)\n",
        "\n",
        "def modinverse(a, b):\n",
        "    return eea(a,b)[1] % b"
      ]
    },
    {
      "cell_type": "code",
      "source": [
        "from Crypto.PublicKey import RSA\n",
        "rsa_key = RSA.generate(2048, e = 2**16+1)"
      ],
      "metadata": {
        "id": "AFd2PT8848u5"
      },
      "execution_count": 4,
      "outputs": []
    },
    {
      "cell_type": "code",
      "source": [
        "p = rsa_key.p\n",
        "q = rsa_key.q\n",
        "e = rsa_key.e\n",
        "n = rsa_key.n\n",
        "d = rsa_key.d"
      ],
      "metadata": {
        "id": "aM5uHErN5eN4"
      },
      "execution_count": 5,
      "outputs": []
    },
    {
      "cell_type": "markdown",
      "source": [
        "Encryption and decryption keys for encrypting and decrypting our texts."
      ],
      "metadata": {
        "id": "OWyH4KizIzHx"
      }
    },
    {
      "cell_type": "code",
      "source": [
        "print(p)\n",
        "print(q)\n",
        "print(e)\n",
        "print(n)\n",
        "print(d)"
      ],
      "metadata": {
        "colab": {
          "base_uri": "https://localhost:8080/"
        },
        "id": "QYN-LdPL5pYk",
        "outputId": "1cf89519-5199-4897-b1a3-a92522461b57"
      },
      "execution_count": 6,
      "outputs": [
        {
          "output_type": "stream",
          "name": "stdout",
          "text": [
            "137913865115385204939119513368160631239568714898345149849253654335467891017578318618637657430855716383347446015482893466856482796128800599538942544531808652914929975036231256369019246702610765781702792226896286198013748961609253598330646066137323714199225015525536579693095223510824441769936497160267475356503\n",
            "160066044438621968691186376026270504357154393849610365615196297181257355943008578984654255948641742030341586913257526633526908344183923186095528787823892093728728557043277544116414599573982157787526728595888166799467734638904179668569842528412970569728770263560133629930155823626314154362190576503352589218143\n",
            "65537\n",
            "22075326862261364317455111649405497380118552536822666102965625545668629458554190297842492921161553479192494106682465908454759670528751792753553127217412982753652484266573938292802484479805435447380229761629125729454016201618025737318746626951747423877237845415974290615944188942781120671685174277983560440971347812099857118559101181171430039050954955069110339351365176980639338258515375686177313812388560880079282778629707085659481370335546758073247689762303607700712776581866414372468831231928313219888135933024010525637669623037403517018252483120705630711942706646569513633375630191720469130665868949710912960633929\n",
            "5421401435038171699794620168716625422784199812017040922337484827769604820718520726364876688986300917765585740071322898463148403148759633556135275990116452651479877538955209070031523989539778804729920472609682753491346731846775474039782519199663927053483423439737952720808424569846989291709612585320435865197202298687808849623100748243959337616883451232159430059948154501025809182919180395076046850856018367818297012940126317685790957400358450674567568711262516783278796023792975650107157497628277738823150261751052590737199263076380455284465421851755041271478657543977485388487336044250861421080009391564782934252013\n"
          ]
        }
      ]
    },
    {
      "cell_type": "code",
      "source": [
        "plain_text1 = 1234\n",
        "blow_up_factor = 10000000\n",
        "\n",
        "byte_stream1 = str(plain_text1).encode()\n",
        "\n",
        "hash_text1 = SHA256.new(byte_stream1)\n",
        "\n",
        "cipher_text1 = pow(plain_text1, e, n)\n",
        "cipher_text2 = pow(blow_up_factor, e, n)\n",
        "\n",
        "cipher_text_blow_up = (cipher_text1 * cipher_text2) % n\n",
        "\n",
        "plain_text_blow_up = pow(cipher_text_blow_up, d, n)\n",
        "print(plain_text_blow_up)\n",
        "print(hash_text1)\n",
        "\n",
        "byte_stream_blow_up = str(plain_text_blow_up).encode()\n",
        "\n",
        "hash_blow_up = SHA256.new(byte_stream_blow_up)\n",
        "\n",
        "if hash_blow_up != hash_text1:\n",
        "  print(\"alert! transaction amt altered\")\n",
        "else:\n",
        "  print(\"success relax\")"
      ],
      "metadata": {
        "colab": {
          "base_uri": "https://localhost:8080/"
        },
        "id": "aiyOPYuK637E",
        "outputId": "0e08a395-b028-4581-b7ae-64fa4887a3cf"
      },
      "execution_count": 7,
      "outputs": [
        {
          "output_type": "stream",
          "name": "stdout",
          "text": [
            "12340000000\n",
            "<Crypto.Hash.SHA256.SHA256Hash object at 0x7fe3c823a4d0>\n",
            "alert! transaction amt altered\n"
          ]
        }
      ]
    },
    {
      "cell_type": "markdown",
      "source": [
        "Use authentication to prevent a malleability attack. Authentication works by sending a hashed version(hash_text1) of the original amt(plain_text1) and the encrypted original amt(cipher_text1).If the hashed amt(hash_text1) equals the hashed encrypted amt (hash_blow_up) then there is no attack. In this case there is a malleability attack. The original amt(plain_text1) has been blown up using the blow_up_factor. To prevent the attack we decrypt the sent encrypted amt (cipher_text_blow_up) into plain_text_blow_up. We then hash plain_text_blow_up. Since we have the original hashed number(hash_text1), we then see if hash_blow_up is equal to hash_text1. We see that they aren't and we send an alert. We also see that multiplication is homomorphic while encrypting and decrypting."
      ],
      "metadata": {
        "id": "29qjEe7kBxlq"
      }
    },
    {
      "cell_type": "code",
      "source": [
        "plain_text1 = 12345678\n",
        "plain_text2 = 10000000\n",
        "\n",
        "cipher_text1 = pow(plain_text1, e, n)\n",
        "cipher_text2 = pow(plain_text2, e, n)\n",
        "\n",
        "cipher_text_sum = (cipher_text1 + cipher_text2) % n\n",
        "\n",
        "plain_text_sum = pow(cipher_text_sum, d, n)\n",
        "print(plain_text_sum)"
      ],
      "metadata": {
        "colab": {
          "base_uri": "https://localhost:8080/"
        },
        "id": "1btwhtiS9F8U",
        "outputId": "728f4954-0955-4e15-e809-8bab7afccfbc"
      },
      "execution_count": 8,
      "outputs": [
        {
          "output_type": "stream",
          "name": "stdout",
          "text": [
            "14440101893160040831549797345610024779885821612341830906956911504115077014976893085222858254432620663118609090984604464938779537546573689094078993574521930781657698141186594508020444306614643378520819052510372491518942174290130540391189971236460586504329874725421653513961148401495035895083951296544660086218274862261662521040791402654506650384447863934284086058068026247321277807743040281602365246970695479079451604744993385301455180068663249544647498905760492232449144478601891977957439703466026538627961466717542305846857360226790056332031035559930084772431933225119343423597274072477370348827627755546963010277369\n"
          ]
        }
      ]
    },
    {
      "cell_type": "markdown",
      "source": [
        "Addition is not homomorphic."
      ],
      "metadata": {
        "id": "Vno63Xa4JD-9"
      }
    },
    {
      "cell_type": "code",
      "source": [
        "plain_text1 = 12345678\n",
        "plain_text2 = 10000000\n",
        "\n",
        "cipher_text1 = pow(plain_text1, e, n)\n",
        "cipher_text2 = pow(plain_text2, e, n)\n",
        "\n",
        "cipher_text_sum = (cipher_text1 - cipher_text2) % n\n",
        "\n",
        "plain_text_sum = pow(cipher_text_sum, d, n)\n",
        "print(plain_text_sum)"
      ],
      "metadata": {
        "colab": {
          "base_uri": "https://localhost:8080/"
        },
        "id": "FxWUtE3u9qOD",
        "outputId": "1bb8c0d4-fa16-4af8-ceee-bbd7ca72c961"
      },
      "execution_count": 9,
      "outputs": [
        {
          "output_type": "stream",
          "name": "stdout",
          "text": [
            "10929277064473432248550446507960778764820894316106009984733994408389339674321274998358650516120828255762249179639296497396974735898624706531361696731600003038450203394595132605986896598331464096870988385190042941685673642813565749719742280522530449455370023737910488751363065765879608732774836600409041773663915549700392234177976830379679950345650962749578246230437751454354569103083432300019369128109102854294680292714880776093623427510631167516955413665187627904581205016226322660810067873427295711188818063643148954180138171749725322209361240664242512628598071857684962272253012131463914402945099548497594259824089\n"
          ]
        }
      ]
    },
    {
      "cell_type": "markdown",
      "source": [
        "Subtraction is not homomorphic."
      ],
      "metadata": {
        "id": "lZwhSL0OJRyg"
      }
    }
  ]
}